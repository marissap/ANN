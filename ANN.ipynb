{
 "cells": [
  {
   "cell_type": "markdown",
   "metadata": {},
   "source": [
    "We want to predict the output value, y, based on inputs, X. In the dataset used as an example, X is fuel prices and unemployment. Y is weekly sales. You can sub in your own data. This is supervised regression.\n",
    "\n",
    "Our inputs and outputs have different units so we have to scale data for standardization.\n",
    "\n",
    "This basic Artifical Neural Network has a hidden layer of 3 neurons. We will be using a Sigmuid Activation Function. We'll be performing Batch Gradient Descent and training on a BFGS Algorithm.\n",
    "\n",
    "Calculus used was learned in my second-year university *Multivariable Calculus* course and matrice work from first-year university *Intro to Linear Algebra* course.\n",
    "\n",
    "*Model based on the [Neural Networks Demystified](https://www.youtube.com/playlist?list=PLiaHhY2iBX9hdHaRr6b7XevZtgZRa1PoU) series by Stephen Welch.*\n",
    "\n",
    "*Dataset found [here](https://www.kaggle.com/manjeetsingh/retaildataset).*"
   ]
  },
  {
   "cell_type": "markdown",
   "metadata": {},
   "source": [
    "#### Data"
   ]
  },
  {
   "cell_type": "code",
   "execution_count": 1,
   "metadata": {},
   "outputs": [],
   "source": [
    "import numpy as np\n",
    "import pandas as pd\n",
    "from scipy import optimize\n",
    "from matplotlib.pyplot import *"
   ]
  },
  {
   "cell_type": "code",
   "execution_count": 2,
   "metadata": {},
   "outputs": [],
   "source": [
    "features = pd.read_csv('./input/Features data set.csv')\n",
    "sales = pd.read_csv('./input/sales data-set.csv')"
   ]
  },
  {
   "cell_type": "code",
   "execution_count": 3,
   "metadata": {},
   "outputs": [
    {
     "data": {
      "text/html": [
       "<div>\n",
       "<style scoped>\n",
       "    .dataframe tbody tr th:only-of-type {\n",
       "        vertical-align: middle;\n",
       "    }\n",
       "\n",
       "    .dataframe tbody tr th {\n",
       "        vertical-align: top;\n",
       "    }\n",
       "\n",
       "    .dataframe thead th {\n",
       "        text-align: right;\n",
       "    }\n",
       "</style>\n",
       "<table border=\"1\" class=\"dataframe\">\n",
       "  <thead>\n",
       "    <tr style=\"text-align: right;\">\n",
       "      <th></th>\n",
       "      <th>Store</th>\n",
       "      <th>Dept</th>\n",
       "      <th>Date</th>\n",
       "      <th>Weekly_Sales</th>\n",
       "      <th>IsHoliday</th>\n",
       "      <th>Temperature</th>\n",
       "      <th>Fuel_Price</th>\n",
       "      <th>MarkDown1</th>\n",
       "      <th>MarkDown2</th>\n",
       "      <th>MarkDown3</th>\n",
       "      <th>MarkDown4</th>\n",
       "      <th>MarkDown5</th>\n",
       "      <th>CPI</th>\n",
       "      <th>Unemployment</th>\n",
       "    </tr>\n",
       "  </thead>\n",
       "  <tbody>\n",
       "    <tr>\n",
       "      <th>0</th>\n",
       "      <td>1</td>\n",
       "      <td>1</td>\n",
       "      <td>2010-05-02</td>\n",
       "      <td>24924.50</td>\n",
       "      <td>False</td>\n",
       "      <td>42.31</td>\n",
       "      <td>2.572</td>\n",
       "      <td>NaN</td>\n",
       "      <td>NaN</td>\n",
       "      <td>NaN</td>\n",
       "      <td>NaN</td>\n",
       "      <td>NaN</td>\n",
       "      <td>211.096358</td>\n",
       "      <td>8.106</td>\n",
       "    </tr>\n",
       "    <tr>\n",
       "      <th>1</th>\n",
       "      <td>1</td>\n",
       "      <td>1</td>\n",
       "      <td>2010-12-02</td>\n",
       "      <td>46039.49</td>\n",
       "      <td>True</td>\n",
       "      <td>38.51</td>\n",
       "      <td>2.548</td>\n",
       "      <td>NaN</td>\n",
       "      <td>NaN</td>\n",
       "      <td>NaN</td>\n",
       "      <td>NaN</td>\n",
       "      <td>NaN</td>\n",
       "      <td>211.242170</td>\n",
       "      <td>8.106</td>\n",
       "    </tr>\n",
       "    <tr>\n",
       "      <th>2</th>\n",
       "      <td>1</td>\n",
       "      <td>1</td>\n",
       "      <td>2010-02-19</td>\n",
       "      <td>41595.55</td>\n",
       "      <td>False</td>\n",
       "      <td>39.93</td>\n",
       "      <td>2.514</td>\n",
       "      <td>NaN</td>\n",
       "      <td>NaN</td>\n",
       "      <td>NaN</td>\n",
       "      <td>NaN</td>\n",
       "      <td>NaN</td>\n",
       "      <td>211.289143</td>\n",
       "      <td>8.106</td>\n",
       "    </tr>\n",
       "    <tr>\n",
       "      <th>3</th>\n",
       "      <td>1</td>\n",
       "      <td>1</td>\n",
       "      <td>2010-02-26</td>\n",
       "      <td>19403.54</td>\n",
       "      <td>False</td>\n",
       "      <td>46.63</td>\n",
       "      <td>2.561</td>\n",
       "      <td>NaN</td>\n",
       "      <td>NaN</td>\n",
       "      <td>NaN</td>\n",
       "      <td>NaN</td>\n",
       "      <td>NaN</td>\n",
       "      <td>211.319643</td>\n",
       "      <td>8.106</td>\n",
       "    </tr>\n",
       "    <tr>\n",
       "      <th>4</th>\n",
       "      <td>1</td>\n",
       "      <td>1</td>\n",
       "      <td>2010-05-03</td>\n",
       "      <td>21827.90</td>\n",
       "      <td>False</td>\n",
       "      <td>46.50</td>\n",
       "      <td>2.625</td>\n",
       "      <td>NaN</td>\n",
       "      <td>NaN</td>\n",
       "      <td>NaN</td>\n",
       "      <td>NaN</td>\n",
       "      <td>NaN</td>\n",
       "      <td>211.350143</td>\n",
       "      <td>8.106</td>\n",
       "    </tr>\n",
       "  </tbody>\n",
       "</table>\n",
       "</div>"
      ],
      "text/plain": [
       "   Store  Dept       Date  Weekly_Sales  IsHoliday  Temperature  Fuel_Price  \\\n",
       "0      1     1 2010-05-02      24924.50      False        42.31       2.572   \n",
       "1      1     1 2010-12-02      46039.49       True        38.51       2.548   \n",
       "2      1     1 2010-02-19      41595.55      False        39.93       2.514   \n",
       "3      1     1 2010-02-26      19403.54      False        46.63       2.561   \n",
       "4      1     1 2010-05-03      21827.90      False        46.50       2.625   \n",
       "\n",
       "   MarkDown1  MarkDown2  MarkDown3  MarkDown4  MarkDown5         CPI  \\\n",
       "0        NaN        NaN        NaN        NaN        NaN  211.096358   \n",
       "1        NaN        NaN        NaN        NaN        NaN  211.242170   \n",
       "2        NaN        NaN        NaN        NaN        NaN  211.289143   \n",
       "3        NaN        NaN        NaN        NaN        NaN  211.319643   \n",
       "4        NaN        NaN        NaN        NaN        NaN  211.350143   \n",
       "\n",
       "   Unemployment  \n",
       "0         8.106  \n",
       "1         8.106  \n",
       "2         8.106  \n",
       "3         8.106  \n",
       "4         8.106  "
      ]
     },
     "execution_count": 3,
     "metadata": {},
     "output_type": "execute_result"
    }
   ],
   "source": [
    "features['Date'] = pd.to_datetime(features['Date'])\n",
    "sales['Date'] = pd.to_datetime(sales['Date'])\n",
    "\n",
    "df = pd.merge(sales,features, on=['Store','Date', 'IsHoliday'], how='left')\n",
    "df.head()"
   ]
  },
  {
   "cell_type": "code",
   "execution_count": 4,
   "metadata": {},
   "outputs": [],
   "source": [
    "df = df.drop(df.columns[[0, 1, 2, 4, 5, 7, 8, 9, 10, 11, 12]], axis=1)\n",
    "X = df[['Fuel_Price', 'Unemployment']].values\n",
    "y = df[['Weekly_Sales']].values"
   ]
  },
  {
   "cell_type": "markdown",
   "metadata": {},
   "source": [
    "#### Scaling"
   ]
  },
  {
   "cell_type": "code",
   "execution_count": 5,
   "metadata": {},
   "outputs": [],
   "source": [
    "X = X/np.amax(X, axis=0)\n",
    "y = y/np.amax(y, axis=0)"
   ]
  },
  {
   "cell_type": "markdown",
   "metadata": {},
   "source": [
    "#### The Artifical Neural Network\n",
    "**hyperparameters**: constants that define structure and behaviour and are not updated as the network is trained\n",
    "\n",
    "**forward function**: propogate inputs through network using matrix. inputs are multipled with the weight on each synapses and then added together. from our dataframe above our first row in X is `[ 2.572, 8.106 ]` so the first value in the first row of our hidden layer matrix, z, will be `[ 2.572(W1) + 8.106(W1) . .  ]`. This function gives us the forumla for our hidden layer: `z2 = XW1`\n",
    "\n",
    "**weights**: representation of the strength of the connection (synpase). they determine the influence an input has on an output or level of activation. we are going to initialize with random values."
   ]
  },
  {
   "cell_type": "code",
   "execution_count": 6,
   "metadata": {},
   "outputs": [],
   "source": [
    "class NeuralNetwork(object):\n",
    "    def __init__(self):\n",
    "        # hyperparameters\n",
    "        self.inputLayerSize = 2 # fuel prices and unemployment\n",
    "        self.outputLayerSize = 1\n",
    "        self.hiddenLayersSize = 3 # number of neurons\n",
    "        \n",
    "        # weights\n",
    "        self.W1 = np.random.randn(X.shape[1], \\\n",
    "                                 self.hiddenLayersSize)\n",
    "        self.W2 = np.random.randn(self.hiddenLayersSize, \\\n",
    "                                 self.outputLayerSize)\n",
    "            \n",
    "    def forward(self, X):\n",
    "        # propogate inputs through network\n",
    "        self.z2 = np.dot(X, self.W1) # input times weights from first layer\n",
    "        self.a2 = sigmoid(self.z2) # apply activation function\n",
    "        self.z3 = np.dot(self.a2, self.W2) # second layer of synpases\n",
    "        yhat = sigmoid(self.z3) # apply activation function\n",
    "        return yhat # output\n",
    "    \n",
    "    # helper methods we will need later on\n",
    "    def getParams(self):\n",
    "        # this is formatting\n",
    "        # returns an array of our weights\n",
    "        params = np.concatenate((self.W1.ravel(), self.W2.ravel()))\n",
    "        return params\n",
    "    \n",
    "    def setParams(self, params):\n",
    "        # this changes our weights\n",
    "        initialW1 = 0\n",
    "        finalW1 = self.hiddenLayersSize * self.inputLayerSize\n",
    "        self.W1 = np.reshape(params[initialW1:finalW1], (self.inputLayerSize , self.hiddenLayersSize))\n",
    "        finalW2 = finalW1 + self.hiddenLayersSize*self.outputLayerSize\n",
    "        self.W2 = np.reshape(params[finalW1:finalW2], (self.hiddenLayersSize, self.outputLayerSize))\n",
    "        \n",
    "    def computeGradients(self, X, y):\n",
    "        dJdW1, dJdW2 = costFunctionPrime(model, X, y)\n",
    "        return np.concatenate((dJdW1.ravel(), dJdW2.ravel()))"
   ]
  },
  {
   "cell_type": "markdown",
   "metadata": {},
   "source": [
    "#### Sigmoid Activation Function\n",
    "Activation function checks the y value produced by a neuron and decides if it should be considered activated or not. A basic Step function sets a threshold where when the y value is above it, it's activated and below it's not. There is an issue though, it sets up a binary which means learning can jump around. We want something that is analog which will allow for intermediate activation that will smooth out the learning. Besides being analog the activation function we choose also has to be non-linear. This is because no matter how many layers we have applying an activation to each will just create a linear combination of linear functions meaning it will always be a function fo a single layer.\n",
    "\n",
    "The Sigmoid function introduces non-linearity and looks like a smooth step function solving both our problems. To learn more about the Sigmoid function check out [this](https://www.computing.dcu.ie/~humphrys/Notes/Neural/sigmoid.html).\n",
    "\n",
    "*This isn't to say Sigmoid funcitons don't have problems either. See [vanishing gradient](https://en.wikipedia.org/wiki/Vanishing_gradient_problem) for more.*"
   ]
  },
  {
   "cell_type": "code",
   "execution_count": 7,
   "metadata": {},
   "outputs": [],
   "source": [
    "def sigmoid(z):\n",
    "    # apply sigmoid activation function\n",
    "    return 1/(1+np.exp(-z))"
   ]
  },
  {
   "cell_type": "code",
   "execution_count": 8,
   "metadata": {},
   "outputs": [
    {
     "data": {
      "image/png": "[encoded data removed]",
      "text/plain": [
       "<Figure size 432x288 with 1 Axes>"
      ]
     },
     "metadata": {},
     "output_type": "display_data"
    }
   ],
   "source": [
    "testInput = np.arange(-6,6,0.01)\n",
    "plot(testInput, sigmoid(testInput), linewidth=2)\n",
    "grid(1)"
   ]
  },
  {
   "cell_type": "markdown",
   "metadata": {},
   "source": [
    "This gives the next important formula: `a2 = f(z2)`\n",
    "    \n",
    "This means the activity of our second layer is equal to applying the activation function to our hidden layers. a<sup>2</sup> has the same size matrix as z<sup>2</sup>."
   ]
  },
  {
   "cell_type": "markdown",
   "metadata": {},
   "source": [
    "#### Forward Propogation\n",
    "We apply the activation function to our z<sup>2</sup> which is our inputs, X, times the first set of weights, W<sup>1</sup>, which are on the synapses connecting our inputs to first layer of neurons. This get's us a<sup>2</sup> as described above.\n",
    "\n",
    "To finish forward propogation we need to propgate a<sup>2</sup> all the way to the output y hat. For this we need to multiply a<sup>2</sup> by the weights of the second layer of our hidden layers, W<sup>2</sup>.\n",
    "\n",
    "We are left with `z3 = a2w2` a matrix of n rows (# of neurons) and 1 column. Finally, like the first layer we have to apply the activation function to z<sup>3</sup>. Leaving us with a formula for y hat: `ŷ = f(z3)` the official estimation of weekly sales."
   ]
  },
  {
   "cell_type": "code",
   "execution_count": 9,
   "metadata": {},
   "outputs": [
    {
     "data": {
      "text/plain": [
       "array([[0.31688864],\n",
       "       [0.31692288],\n",
       "       [0.31696885],\n",
       "       ...,\n",
       "       [0.31620342],\n",
       "       [0.31635086],\n",
       "       [0.31675405]])"
      ]
     },
     "execution_count": 9,
     "metadata": {},
     "output_type": "execute_result"
    }
   ],
   "source": [
    "model = NeuralNetwork()\n",
    "yHat = model.forward(X)\n",
    "yHat"
   ]
  },
  {
   "cell_type": "code",
   "execution_count": 10,
   "metadata": {},
   "outputs": [
    {
     "data": {
      "text/plain": [
       "array([[0.03596093],\n",
       "       [0.06642553],\n",
       "       [0.06001383],\n",
       "       ...,\n",
       "       [0.00153083],\n",
       "       [0.00109654],\n",
       "       [0.0015536 ]])"
      ]
     },
     "execution_count": 10,
     "metadata": {},
     "output_type": "execute_result"
    }
   ],
   "source": [
    "y"
   ]
  },
  {
   "cell_type": "markdown",
   "metadata": {},
   "source": [
    "At this point, it is evident that are estimates are way off. That's because the model has not been trained."
   ]
  },
  {
   "cell_type": "markdown",
   "metadata": {},
   "source": [
    "#### Gradient Descent\n",
    "First step is to quantify how far off our data is. We have to determine the error with a cost function: `J = ∑ 1/2 (y - ŷ)^2` Now the goal of training is to **minimize** our cost function (minimize error). We do this by changing the weights.\n",
    "\n",
    "Here is where we break out the university-level calculus. Let's expand J so it is easier to work with, we're just going to sub in \n",
    "our input and weights. That gives us the following for our cost function `J = ∑ 1/2 (y - f(f(XW1)W2))^2`\n",
    "\n",
    "We want to figure out where the cost is going downhill (so we can find the minimum). This means we need the rate of change (slope). Derivatives give the rate of change of a function. We are changing weights (W1, W2) wrt to J so the derivative needed is dJ/dW. We are going to take our weights one at a time so we'll break that into two partial derivatives: `∂J/∂W1` and `∂J/∂W2`\n",
    "\n",
    "Gradient Descent is a process of iteratively taking steps down towards the minimum.\n",
    "\n",
    "*Note: cost function is squared because the convex nature of quadratic equations means we won't get stuck in a local minima of a non-convex equation. (Think the shape of a parabola).* "
   ]
  },
  {
   "cell_type": "code",
   "execution_count": 11,
   "metadata": {},
   "outputs": [],
   "source": [
    "def costFunction(N, X, y):\n",
    "    # compute error\n",
    "    N.yHat = N.forward(X)\n",
    "    J = 0.5*sum((y-N.yHat)**2)\n",
    "    return J"
   ]
  },
  {
   "cell_type": "markdown",
   "metadata": {},
   "source": [
    "#### Backpropagation\n",
    "Backpropagation can be thought of as performing the chain rule endlessly.\n",
    "\n",
    "We will start it with our second set of weights.\n",
    "\n",
    "`∂J/∂W2 = ∂(∑ 1/2(y - ŷ)^2) / ∂W2`\n",
    "\n",
    "To simply, remove summation, we will add individual computations together later.\n",
    "\n",
    "`= 1/2(y - ŷ)^2`\n",
    "\n",
    "Apply power rule.\n",
    "\n",
    "`= (y - ŷ)`\n",
    "\n",
    "Apply chain rule. y doesn't change in the model so treat it as a constant. Move the negative from the chain rule ot the front.\n",
    "\n",
    "`= -(y - ŷ)(∂ŷ/∂W2)`\n",
    "\n",
    "Remember, ŷ is equal to the activation function applied on z3. This means we must apply the chain rule again.\n",
    "\n",
    "`= -(y - ŷ)(∂ŷ/∂W2)(∂z3/∂W2)`\n",
    "\n",
    "Differentiate Sigmoid activation function.\n",
    "\n",
    "```f(z) = 1/(1+e^(-z))\n",
    "f′(z) = (0(v) - (1(e^(-z)))) / (1(e^(-z))^2\n",
    "      = e^(-z) / (1(e^(-z))^2```\n",
    "      \n",
    "Sub differentiation result into main partial derivative.\n",
    "\n",
    "`= -(y - ŷ)(f′(z3))(∂z3/∂W2)`\n",
    "\n",
    "Before going on to the last term lets apply matrix multiplication to our first two because they are of the same time. This results in the backpropagating error, δ3 which is a matrix of [X.shape, 3]. Delta is also known as sensitivity.\n",
    "\n",
    "`δ3 = -(y - ŷ)(f′(z3))`\n",
    "\n",
    "We have are final partial derivative to compute. Remember z3 represents the activity of our second layer multiplied with the weights. Therefore, this term is equal to the activity of each synapse and can be thought of as matrix [X.shape, 3] of a2.\n",
    "\n",
    "If we transpose the matrix of the final term we are able to finsih the computing ∂J/∂W2. This is also going to take care of the summatation. *(Remember with matrix multiplication the # columns of the first matrix must equal the number of rows in the second matrix.)* Each row in the final matrix looks like `[a2(δ3) + a2(δ3) + a2(δ3) . . . ]` for the number of values in X.\n",
    "\n",
    "`∂J/∂W2 = δ3(a2T)`\n",
    "\n",
    "To summarize, we have calculated the gradient (movement down) of each term, we sum them together, and move down in the direction of the sum. Summation is what makes this process Batch Gradient Descent."
   ]
  },
  {
   "cell_type": "code",
   "execution_count": 12,
   "metadata": {},
   "outputs": [],
   "source": [
    "def sigmoidPrime(z):\n",
    "    # derivative of sigmoid function\n",
    "    return np.exp(-z)/((1+np.exp(-z))**2)"
   ]
  },
  {
   "cell_type": "code",
   "execution_count": 13,
   "metadata": {},
   "outputs": [],
   "source": [
    "def costFunctionPrime(N, X, y):\n",
    "    # compute derivative wrt W1 and W2\n",
    "    N.yHat = N.forward(X)\n",
    "    \n",
    "    delta3 = np.multiply(-(y-N.yHat), sigmoidPrime(N.z3))\n",
    "    dJdW2 = np.dot(N.a2.T, delta3)\n",
    "    \n",
    "    # this part is explained in the text below\n",
    "    delta2 = np.dot(delta3, N.W2.T)*sigmoidPrime(N.z2)\n",
    "    dJdW1 = np.dot(X.T, delta2)\n",
    "    \n",
    "    return dJdW1, dJdW2"
   ]
  },
  {
   "cell_type": "markdown",
   "metadata": {},
   "source": [
    "The final computation is for our first set of weights: `∂J/∂W1` This is the movement from our inputs across synapses to neurons.\n",
    "\n",
    "`∂J/∂W1 = ∂(∑ 1/2(y - ŷ)^2) / ∂W1`\n",
    "\n",
    "Follow the derivation of W2 through until δ3 has been calculated. At this point we have the following:\n",
    "\n",
    "`= δ3(∂z3/∂W1)`\n",
    "\n",
    "For W2 the computation was finding the derivative wrt weights **on** synpases. Now, for W1, it's about taking the derivative **across** synapses. Chain rule again.\n",
    "\n",
    "`= δ3(∂z3/∂W1)(∂a2/∂W1)`\n",
    "\n",
    "We are still thinking about the relationship of z3 which represents the activity of our second layer multiplied with the weights. This time, we need to transpose the matrix of W2 weights.\n",
    "\n",
    "`= δ3(W2T)(∂a2/∂W1)`\n",
    "\n",
    "Chain rule again. This is like our earlier Sigmoid derivative except for z2 this time.\n",
    "\n",
    "`= δ3(W2T)(∂a2/∂W1)(∂z/∂W1)`\n",
    "\n",
    "`= δ3(W2T)(f′(z2))(∂z/∂W1)`\n",
    "\n",
    "The final partial derivative is our inputs. Transpose.\n",
    "\n",
    "`= δ3(W2T)(f′(z2))(XT)`\n",
    "\n",
    "Applying the derivative and adding our dJdW1s together across all our examples.\n",
    "\n",
    "`= δ2(XT)`"
   ]
  },
  {
   "cell_type": "code",
   "execution_count": 14,
   "metadata": {},
   "outputs": [
    {
     "data": {
      "text/plain": [
       "array([[-1206.6021178 , -4107.08637481, -3568.39780452],\n",
       "       [ -923.08788321, -3088.91013053, -2631.09286304]])"
      ]
     },
     "execution_count": 14,
     "metadata": {},
     "output_type": "execute_result"
    }
   ],
   "source": [
    "# Change our weights to decrease cost\n",
    "dJdW1, dJdW2 = costFunctionPrime(model, X, y)\n",
    "dJdW1"
   ]
  },
  {
   "cell_type": "markdown",
   "metadata": {},
   "source": [
    "#### Numerical Gradient Checking\n",
    "\n",
    "Our model gives not indication that our calculations are incorrect. The network may learn something that looks *fairly* resonsable while actually being a buggy implementation. This can lead to slowly degrading performance and inaccurate results/conclusions/analysis.\n",
    "\n",
    "*I loved this [explanation](http://ufldl.stanford.edu/tutorial/supervised/DebuggingGradientChecking/) by Standford.*\n",
    "\n",
    "So, before training we need to check our derivative procedure. We do this by thinking back to the first week of intro to calculus class where we learned the definition of a derivative (remember taking x to the limit?).\n",
    "\n",
    "`f'= limΔx→0 f(x+Δx)−f(x)/Δx`\n",
    "\n",
    "We are going to choose a middle point of our function and call the movements to the left and right as `x - ε` or `x + ε`. Essentially we are going to set Δx to a very very (not extremely) small constant called Epsilon. The calculated approximation will have an error in the range of epsilon squared.\n",
    "\n",
    "We will calculate `(f(x+epsilon)-f(x-epsilon))/(2*epsilon)` and compare to our test point.\n",
    "\n",
    "Quick terminology explainer: perturbing means adding a small random value to the weight."
   ]
  },
  {
   "cell_type": "code",
   "execution_count": 15,
   "metadata": {},
   "outputs": [],
   "source": [
    "def computeNumericalGradient(N, X, y):\n",
    "    paramsInitial = N.getParams()\n",
    "    ngv = np.zeros(paramsInitial.shape)    \n",
    "    perturb = np.zeros(paramsInitial.shape)\n",
    "    e = 1e-4 # very very small epsilon value\n",
    "    \n",
    "    # add epsilon to current value\n",
    "    for i in range(len(paramsInitial)):\n",
    "        perturb[i] = e\n",
    "        # move right\n",
    "        \n",
    "        N.setParams(paramsInitial + perturb) # add to current value\n",
    "        lossRight = costFunction(N, X, y) # compute cost function based on new weight\n",
    "        # move left\n",
    "        N.setParams(paramsInitial - perturb) # subtract from current value\n",
    "        lossLeft = costFunction(N, X, y) # compute cost function based on new weight\n",
    "        \n",
    "        # sub into definition\n",
    "        ngv[i] = (lossRight - lossLeft) / (2*e)\n",
    "        \n",
    "        # reset\n",
    "        perturb[i] = 0\n",
    "    \n",
    "    # reset params\n",
    "    N.setParams(paramsInitial)\n",
    "    \n",
    "    return ngv # numerical gradient vector with same num of values and weights"
   ]
  },
  {
   "cell_type": "code",
   "execution_count": 16,
   "metadata": {},
   "outputs": [],
   "source": [
    "check = computeNumericalGradient(model, X,  y)\n",
    "gradient = model.computeGradients(X, y)"
   ]
  },
  {
   "cell_type": "code",
   "execution_count": 17,
   "metadata": {},
   "outputs": [
    {
     "data": {
      "text/plain": [
       "array([-1206.6021208 , -4107.08637266, -3568.39780048,  -923.08788795,\n",
       "       -3088.9101285 , -2631.09286176,  3968.23472927, 13315.8750929 ,\n",
       "        9600.94567796])"
      ]
     },
     "execution_count": 17,
     "metadata": {},
     "output_type": "execute_result"
    }
   ],
   "source": [
    "check"
   ]
  },
  {
   "cell_type": "code",
   "execution_count": 18,
   "metadata": {},
   "outputs": [
    {
     "data": {
      "text/plain": [
       "array([-1206.6021178 , -4107.08637481, -3568.39780452,  -923.08788321,\n",
       "       -3088.91013053, -2631.09286304,  3968.23473019, 13315.87508975,\n",
       "        9600.94567708])"
      ]
     },
     "execution_count": 18,
     "metadata": {},
     "output_type": "execute_result"
    }
   ],
   "source": [
    "gradient"
   ]
  },
  {
   "cell_type": "markdown",
   "metadata": {},
   "source": [
    "#### Training\n",
    "There are many potential issues in using Gradient Descent. For example, hitting a flat spot or bouncing out of the minima because the steps are too large. The Broyden–Fletcher–Goldfarb–Shanno Numerical Optimization Algorithm (BFGS) is a popular specialization that takes the second derivative of the cost function which allows it to reduce the issues seen in traditional Gradient Descent.\n",
    "\n",
    "I recommend this [resource](https://people.duke.edu/~ccc14/sta-663/MultivariateOptimizationAlgortihms.html) from Duke University to expand your understanding of this algorithm.\n",
    "\n",
    "We are going to use a built-in scipy package which you can reference [here](https://docs.scipy.org/doc/scipy/reference/generated/scipy.optimize.minimize.html).\n",
    "\n",
    "For BFGS we used a Jacobian parameter. This is simply a matrix that contains first-order partial derivatives for a vector function.\n",
    "\n",
    "In order to combat overfitting and mitigate the noise in our data, we should break up our dataset into training and test data."
   ]
  },
  {
   "cell_type": "code",
   "execution_count": 58,
   "metadata": {},
   "outputs": [],
   "source": [
    "from sklearn.model_selection import train_test_split\n",
    "\n",
    "trainX, testX, trainY, testY = train_test_split(X, y)\n",
    "\n",
    "trainX = trainX/np.amax(trainX, axis=0)\n",
    "trainY = trainY/np.amax(trainY, axis=0)\n",
    "testX = testX/np.amax(testX, axis=0)\n",
    "testY = testY/np.amax(testY, axis=0)\n",
    "\n",
    "trainX = np.around(trainX, 1)\n",
    "trainY = np.around(trainY, 1)\n",
    "testX = np.around(testX, 1)\n",
    "testY = np.around(testY, 1)"
   ]
  },
  {
   "cell_type": "code",
   "execution_count": 45,
   "metadata": {},
   "outputs": [],
   "source": [
    "class Trainer(object):\n",
    "    def __init__(self, model):\n",
    "        self.N = model\n",
    "    \n",
    "    def callback(self, params):\n",
    "        self.N.setParams(params)\n",
    "        self.J.append(costFunction(self.N, self.X, self.y))\n",
    "        self.testJ.append(costFunction(self.N, self.testX, self.textY))\n",
    "    \n",
    "    # optimize.minimize takes a tuple\n",
    "    def wrapper(self, params, X, y):\n",
    "        self.N.setParams(params)\n",
    "        cost = costFunction(self.N, X, y)\n",
    "        grad = self.N.computeGradients(X, y)\n",
    "        return cost, grad\n",
    "    \n",
    "    def train(self, trainX, trainY, testX, testY):\n",
    "        self.X = trainX\n",
    "        self.y = trainY\n",
    "        \n",
    "        self.testX = testX\n",
    "        self.textY = testY\n",
    "        \n",
    "        # list to store costs\n",
    "        self.J = []\n",
    "        self.testJ = []\n",
    "        \n",
    "        # initial params\n",
    "        int_params = self.N.getParams()\n",
    "        \n",
    "        # do max 200 iterations and print the convergence message\n",
    "        options = {'maxiter': 2000, 'disp': True}\n",
    "        # after each iteration we add result to our list and replace random params with trained ones (callback)\n",
    "        res = optimize.minimize(self.wrapper, int_params, jac = True, method = 'BFGS', args = (trainX, trainY), callback = self.callback, options=options)\n",
    "        \n",
    "        self.N.setParams(res.x)\n",
    "        self.optimizationResults = res"
   ]
  },
  {
   "cell_type": "code",
   "execution_count": 59,
   "metadata": {},
   "outputs": [
    {
     "name": "stdout",
     "output_type": "stream",
     "text": [
      "Optimization terminated successfully.\n",
      "         Current function value: 245.893805\n",
      "         Iterations: 13\n",
      "         Function evaluations: 14\n",
      "         Gradient evaluations: 14\n"
     ]
    }
   ],
   "source": [
    "TR = Trainer(model)\n",
    "TR.train(trainX, trainY, testX, testY)"
   ]
  },
  {
   "cell_type": "code",
   "execution_count": 60,
   "metadata": {},
   "outputs": [
    {
     "data": {
      "text/plain": [
       "Text(0,0.5,'Cost')"
      ]
     },
     "execution_count": 60,
     "metadata": {},
     "output_type": "execute_result"
    },
    {
     "data": {
      "image/png": "[encoded data removed]",
      "text/plain": [
       "<Figure size 432x288 with 1 Axes>"
      ]
     },
     "metadata": {},
     "output_type": "display_data"
    }
   ],
   "source": [
    "plot(TR.J)\n",
    "plot(TR.testJ)\n",
    "grid(1)\n",
    "xlabel('Iterations')\n",
    "ylabel('Cost')"
   ]
  }
 ],
 "metadata": {
  "kernelspec": {
   "display_name": "Python 3",
   "language": "python",
   "name": "python3"
  },
  "language_info": {
   "codemirror_mode": {
    "name": "ipython",
    "version": 3
   },
   "file_extension": ".py",
   "mimetype": "text/x-python",
   "name": "python",
   "nbconvert_exporter": "python",
   "pygments_lexer": "ipython3",
   "version": "3.6.5"
  }
 },
 "nbformat": 4,
 "nbformat_minor": 2
}
